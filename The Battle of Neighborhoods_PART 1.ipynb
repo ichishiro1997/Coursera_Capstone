{
    "cells": [
        {
            "cell_type": "markdown",
            "metadata": {
                "collapsed": true
            },
            "source": "# Introduction\n\n#### Scenario\nA group of friends decide to travel to Toronto for their vacation and want to have only Italian or Chinese cuisine when they visit, so they would like to stay in a neighborhood with a high density of Italian or Chinese restaurants.\n\n#### Business Problem:\nThe problem this project aims to solve is to  list and visualize all major parts of Toronto that has amazing Italian or Chinese restaurants.\n\n#### Interested Audience\nThis would be a relevant challenge for anyone looking for a specific kind of cuisine when visting Toronto or any other city. This case is also applicable for anyone interested in exploring starting or locating a Restaurants in any city. "
        },
        {
            "cell_type": "markdown",
            "metadata": {},
            "source": "# Data Section\n\n#### Data Required\nCollect the Toronto city data.\nGeoSpace data to visualize the neighborhoods and form a list of Boroughs, Neighborhoods along with their map coordinates. \nA list of venues with Italian or Chinese food in each neighborhood of the city\n\n#### Approach\nCollect and clean the data from https://en.wikipedia.org/wiki/List_of_postal_codes_of_Canada:_M. \nForm a data frame with Boroughs, Neighborhoods along with latitude and longitude using https://cocl.us/Geospatial_data. \nUse the FourSquareAPI to find all the Italian or Chinese restaurants. Rank the restaurants based on the ratings, like count and tips provided by the FourSquareAPI. Use folium to visualize the ranking of neighborhoods for the given criteria and draw insights to select a neigbourhood for the friends to stay in."
        },
        {
            "cell_type": "code",
            "execution_count": null,
            "metadata": {},
            "outputs": [],
            "source": ""
        }
    ],
    "metadata": {
        "kernelspec": {
            "display_name": "Python 3.6",
            "language": "python",
            "name": "python3"
        },
        "language_info": {
            "codemirror_mode": {
                "name": "ipython",
                "version": 3
            },
            "file_extension": ".py",
            "mimetype": "text/x-python",
            "name": "python",
            "nbconvert_exporter": "python",
            "pygments_lexer": "ipython3",
            "version": "3.6.9"
        }
    },
    "nbformat": 4,
    "nbformat_minor": 1
}